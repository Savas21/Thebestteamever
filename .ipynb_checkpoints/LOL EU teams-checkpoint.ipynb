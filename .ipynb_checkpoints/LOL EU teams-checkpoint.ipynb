{
 "cells": [
  {
   "cell_type": "markdown",
   "metadata": {},
   "source": [
    "LOL EU TEAMS"
   ]
  },
  {
   "cell_type": "code",
   "execution_count": 1,
   "metadata": {
    "collapsed": true
   },
   "outputs": [],
   "source": [
    "#dependencies\n",
    "import tweepy\n",
    "import numpy as np\n",
    "import pandas as pd\n",
    "import seaborn as sns\n",
    "import matplotlib.pyplot as plt\n",
    "import json\n",
    "import time\n",
    "import csv\n",
    "from vaderSentiment.vaderSentiment import SentimentIntensityAnalyzer\n",
    "analyzer = SentimentIntensityAnalyzer()"
   ]
  },
  {
   "cell_type": "code",
   "execution_count": 2,
   "metadata": {
    "collapsed": true
   },
   "outputs": [],
   "source": [
    "#Import Twitter API Keys and setup API Authentication\n",
    "from TwitterAPIkey import consumer_key,consumer_secret,access_token,access_token_secret\n",
    "auth = tweepy.OAuthHandler(consumer_key, consumer_secret)\n",
    "auth.set_access_token(access_token, access_token_secret)\n",
    "api = tweepy.API(auth, parser=tweepy.parsers.JSONParser())\n"
   ]
  },
  {
   "cell_type": "markdown",
   "metadata": {},
   "source": [
    "NA LOL Analysis "
   ]
  },
  {
   "cell_type": "code",
   "execution_count": 3,
   "metadata": {
    "collapsed": true
   },
   "outputs": [],
   "source": [
    "#target search terms\n",
    "target_terms=(\"@Fanatic\",\"@G2esports\",\"@Splyce\",\"@Team_Vitality\",\"@ROCCAT\",\"@MisfitsGG\",\"@H2KGG\",\"@s04\",\"@GiantsGamingENG\",\"@UnicornsOfLove\")\n",
    "\n",
    "#Array to hold sentiment\n",
    "sentiment_array=[]\n",
    "#Variable for holding the oldest tweet\n",
    "oldest_tweet=\"\"\n",
    "i=0\n",
    "counter=1\n",
    "\n",
    "    "
   ]
  },
  {
   "cell_type": "code",
   "execution_count": 7,
   "metadata": {},
   "outputs": [
    {
     "ename": "TweepError",
     "evalue": "Not authorized.",
     "output_type": "error",
     "traceback": [
      "\u001b[1;31m---------------------------------------------------------------------------\u001b[0m",
      "\u001b[1;31mTweepError\u001b[0m                                Traceback (most recent call last)",
      "\u001b[1;32m<ipython-input-7-f0ee26d69e63>\u001b[0m in \u001b[0;36m<module>\u001b[1;34m()\u001b[0m\n\u001b[0;32m      7\u001b[0m     \u001b[0mneutral_list\u001b[0m\u001b[1;33m=\u001b[0m\u001b[1;33m[\u001b[0m\u001b[1;33m]\u001b[0m\u001b[1;33m\u001b[0m\u001b[0m\n\u001b[0;32m      8\u001b[0m     \u001b[0mi\u001b[0m\u001b[1;33m+=\u001b[0m\u001b[1;36m1\u001b[0m\u001b[1;33m\u001b[0m\u001b[0m\n\u001b[1;32m----> 9\u001b[1;33m     \u001b[0mpublic_tweets\u001b[0m\u001b[1;33m=\u001b[0m\u001b[0mapi\u001b[0m\u001b[1;33m.\u001b[0m\u001b[0muser_timeline\u001b[0m\u001b[1;33m(\u001b[0m\u001b[0mtarget\u001b[0m\u001b[1;33m,\u001b[0m\u001b[0mcount\u001b[0m\u001b[1;33m=\u001b[0m\u001b[1;36m5\u001b[0m\u001b[1;33m)\u001b[0m\u001b[1;33m\u001b[0m\u001b[0m\n\u001b[0m\u001b[0;32m     10\u001b[0m \u001b[1;31m#print(public_tweets)\u001b[0m\u001b[1;33m\u001b[0m\u001b[1;33m\u001b[0m\u001b[0m\n\u001b[0;32m     11\u001b[0m \u001b[1;31m#loop through all tweets\u001b[0m\u001b[1;33m\u001b[0m\u001b[1;33m\u001b[0m\u001b[0m\n",
      "\u001b[1;32m~\\AppData\\Local\\conda\\conda\\envs\\pydata\\lib\\site-packages\\tweepy\\binder.py\u001b[0m in \u001b[0;36m_call\u001b[1;34m(*args, **kwargs)\u001b[0m\n\u001b[0;32m    248\u001b[0m             \u001b[1;32mreturn\u001b[0m \u001b[0mmethod\u001b[0m\u001b[1;33m\u001b[0m\u001b[0m\n\u001b[0;32m    249\u001b[0m         \u001b[1;32melse\u001b[0m\u001b[1;33m:\u001b[0m\u001b[1;33m\u001b[0m\u001b[0m\n\u001b[1;32m--> 250\u001b[1;33m             \u001b[1;32mreturn\u001b[0m \u001b[0mmethod\u001b[0m\u001b[1;33m.\u001b[0m\u001b[0mexecute\u001b[0m\u001b[1;33m(\u001b[0m\u001b[1;33m)\u001b[0m\u001b[1;33m\u001b[0m\u001b[0m\n\u001b[0m\u001b[0;32m    251\u001b[0m \u001b[1;33m\u001b[0m\u001b[0m\n\u001b[0;32m    252\u001b[0m     \u001b[1;31m# Set pagination mode\u001b[0m\u001b[1;33m\u001b[0m\u001b[1;33m\u001b[0m\u001b[0m\n",
      "\u001b[1;32m~\\AppData\\Local\\conda\\conda\\envs\\pydata\\lib\\site-packages\\tweepy\\binder.py\u001b[0m in \u001b[0;36mexecute\u001b[1;34m(self)\u001b[0m\n\u001b[0;32m    232\u001b[0m                     \u001b[1;32mraise\u001b[0m \u001b[0mRateLimitError\u001b[0m\u001b[1;33m(\u001b[0m\u001b[0merror_msg\u001b[0m\u001b[1;33m,\u001b[0m \u001b[0mresp\u001b[0m\u001b[1;33m)\u001b[0m\u001b[1;33m\u001b[0m\u001b[0m\n\u001b[0;32m    233\u001b[0m                 \u001b[1;32melse\u001b[0m\u001b[1;33m:\u001b[0m\u001b[1;33m\u001b[0m\u001b[0m\n\u001b[1;32m--> 234\u001b[1;33m                     \u001b[1;32mraise\u001b[0m \u001b[0mTweepError\u001b[0m\u001b[1;33m(\u001b[0m\u001b[0merror_msg\u001b[0m\u001b[1;33m,\u001b[0m \u001b[0mresp\u001b[0m\u001b[1;33m,\u001b[0m \u001b[0mapi_code\u001b[0m\u001b[1;33m=\u001b[0m\u001b[0mapi_error_code\u001b[0m\u001b[1;33m)\u001b[0m\u001b[1;33m\u001b[0m\u001b[0m\n\u001b[0m\u001b[0;32m    235\u001b[0m \u001b[1;33m\u001b[0m\u001b[0m\n\u001b[0;32m    236\u001b[0m             \u001b[1;31m# Parse the response payload\u001b[0m\u001b[1;33m\u001b[0m\u001b[1;33m\u001b[0m\u001b[0m\n",
      "\u001b[1;31mTweepError\u001b[0m: Not authorized."
     ]
    }
   ],
   "source": [
    "#loop through all target terms\n",
    "for target in target_terms:\n",
    "    #variables for holding sentiments\n",
    "    compound_list=[]\n",
    "    positive_list=[]\n",
    "    negative_list=[]\n",
    "    neutral_list=[]\n",
    "    i+=1\n",
    "    public_tweets=api.user_timeline(target,count=5)\n",
    "#print(public_tweets)\n",
    "#loop through all tweets\n",
    "    for tweet in public_tweets:\n",
    "        text=tweet[\"text\"]\n",
    "    #run vader on each tweet\n",
    "        compound=analyzer.polarity_scores(text)[\"compound\"]\n",
    "        pos=analyzer.polarity_scores(text)[\"pos\"]\n",
    "        neu=analyzer.polarity_scores(text)[\"neu\"]\n",
    "        neg=analyzer.polarity_scores(text)[\"neg\"]\n",
    "    #add each value to the array\n",
    "        sentiment_array.append({\"Team\":target,\"Tweet text\":text,\"Date\":tweet[\"created_at\"],\"Compound Score\":compound,\"Positive Score\":pos,\"Neutral Score\":neu,\"Negative Score\":neg,\"Tweet Ago\":counter})\n",
    "\n",
    "    counter+=1"
   ]
  },
  {
   "cell_type": "code",
   "execution_count": null,
   "metadata": {
    "collapsed": true
   },
   "outputs": [],
   "source": [
    "#convert sentiments_array to Daraframe\n",
    "sentiments_pd=pd.DataFrame.from_dict(sentiment_array)\n",
    "sentiments_pd"
   ]
  },
  {
   "cell_type": "code",
   "execution_count": null,
   "metadata": {
    "collapsed": true
   },
   "outputs": [],
   "source": [
    "sentiments_pd.to_csv(\"NA_TEAMS_sentiments.csv\",encoding=\"utf-8\",index=False)"
   ]
  },
  {
   "cell_type": "markdown",
   "metadata": {},
   "source": [
    "Creat Scatter Plot"
   ]
  },
  {
   "cell_type": "code",
   "execution_count": null,
   "metadata": {
    "collapsed": true
   },
   "outputs": [],
   "source": [
    "#creat scatter plot\n",
    "colors=[\"DarkRed\",\"Grey\",\"Red\",\"Blue\",\"Black\",\"Pink\",\"Yellow\",\"Green\",\"Purple\",\"Orange\"]\n",
    "team_source=sentiments_pd[\"Team\"].unique()\n",
    "i=0\n",
    "plt.figure(figsize=(12,10))\n",
    "for channel in target_terms:\n",
    "    print(channel)\n",
    "    tweet_ago=np.arange(len(sentiments_pd[sentiments_pd['Team']==channel]['Compound Score']))\n",
    "    plt.scatter(tweet_ago,sentiments_pd[sentiments_pd['Team']==channel]['Compound Score'],marker='o',color=colors[i],s=100,edgecolor=\"black\",label=channel)\n",
    "    i+=1\n",
    "plt.title(\"Sentitment Analysis of Tweet(%s)\"%(time.strftime(\"%x\")))\n",
    "plt.ylabel(\"Tweet Polarity\")\n",
    "plt.xlabel(\"Tweets Ago\")\n",
    "plt.xlim(105,-5)\n",
    "plt.legend(loc=\"best\",bbox_to_anchor=(1,0.5),frameon=True)\n",
    "plt.savefig(\"Output_Sentiment_Analysis\")\n",
    "plt.grid(True)\n",
    "plt.show()"
   ]
  },
  {
   "cell_type": "markdown",
   "metadata": {},
   "source": [
    "Creat The Overall Bar Chart"
   ]
  },
  {
   "cell_type": "code",
   "execution_count": null,
   "metadata": {
    "collapsed": true
   },
   "outputs": [],
   "source": [
    "#Get compound scores for each news channels for the bar graph\n",
    "sentiments_table=sentiments_pd.pivot_table(index='Team',values='Compound Score',aggfunc=np.mean)\n",
    "sentiments_table"
   ]
  },
  {
   "cell_type": "code",
   "execution_count": null,
   "metadata": {
    "collapsed": true
   },
   "outputs": [],
   "source": [
    "#Creat bar plot visualizing the overall sentiments of the last 100 tweets from each channels\n",
    "x_axis=np.arange(len(sentiments_table.index.values))\n",
    "tick_locations=[value+0.4 for value in x_axis]\n",
    "fig,ax=plt.subplots(figsize=(20,20))\n",
    "plt.xticks(tick_locations,sentiments_table.index.values,rotation=\"horizontal\")\n",
    "rect=plt.bar(sentiments_table.index.values,sentiments_table[\"Compound Score\"],color=colors, alpha=1,align=\"edge\")\n",
    "plt.grid"
   ]
  },
  {
   "cell_type": "code",
   "execution_count": null,
   "metadata": {
    "collapsed": true
   },
   "outputs": [],
   "source": [
    "plt.title(\"Overall Team Sentiment based on Twitter(%s)\"%(time.strftime(\"%x\")))\n",
    "plt.xlabel(\"Team\")\n",
    "plt.ylabel(\"Tweet Polarity\")\n",
    "ax.grid(linestyle='dotted')\n",
    "plt.savefig(\"Output_compoundscore_analysis\")\n",
    "plt.show()"
   ]
  },
  {
   "cell_type": "code",
   "execution_count": null,
   "metadata": {
    "collapsed": true
   },
   "outputs": [],
   "source": []
  },
  {
   "cell_type": "code",
   "execution_count": null,
   "metadata": {
    "collapsed": true
   },
   "outputs": [],
   "source": []
  }
 ],
 "metadata": {
  "kernelspec": {
   "display_name": "Python 3",
   "language": "python",
   "name": "python3"
  },
  "language_info": {
   "codemirror_mode": {
    "name": "ipython",
    "version": 3
   },
   "file_extension": ".py",
   "mimetype": "text/x-python",
   "name": "python",
   "nbconvert_exporter": "python",
   "pygments_lexer": "ipython3",
   "version": "3.6.3"
  }
 },
 "nbformat": 4,
 "nbformat_minor": 2
}
